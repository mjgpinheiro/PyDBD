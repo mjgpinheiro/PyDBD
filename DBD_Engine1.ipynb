{
  "nbformat": 4,
  "nbformat_minor": 0,
  "metadata": {
    "colab": {
      "provenance": [],
      "authorship_tag": "ABX9TyMhScV9HSfCV48XZH5MuPQk",
      "include_colab_link": true
    },
    "kernelspec": {
      "name": "python3",
      "display_name": "Python 3"
    },
    "language_info": {
      "name": "python"
    }
  },
  "cells": [
    {
      "cell_type": "markdown",
      "metadata": {
        "id": "view-in-github",
        "colab_type": "text"
      },
      "source": [
        "<a href=\"https://colab.research.google.com/github/mjgpinheiro/PyDBD/blob/master/DBD_Engine1.ipynb\" target=\"_parent\"><img src=\"https://colab.research.google.com/assets/colab-badge.svg\" alt=\"Open In Colab\"/></a>"
      ]
    },
    {
      "cell_type": "code",
      "execution_count": null,
      "metadata": {
        "id": "in6bnjsSpnYX"
      },
      "outputs": [],
      "source": [
        "!pip install plasmapy\n",
        "import numpy as np\n",
        "import matplotlib.pyplot as plt\n",
        "from plasmapy.physics import Plasma, plasma_factory\n",
        "from plasmapy.formulary import electric_field as ef\n",
        "from plasmapy.formulary import ionization_state as ion_state\n",
        "from plasmapy.atomic import particle_mass, particle_charge\n",
        "\n",
        "# Define parameters\n",
        "length = 1.0   # length of discharge (m)\n",
        "width = 0.1    # width of discharge (m)\n",
        "height = 0.01  # height of discharge (m)\n",
        "freq = 60.0    # frequency of discharge (Hz)\n",
        "voltage = 1000.0  # voltage of discharge (V)\n",
        "\n",
        "# Calculate gas properties\n",
        "gas = 'air'\n",
        "mass = particle_mass(gas)\n",
        "Z = particle_charge(gas)\n",
        "T_e = 10.0  # electron temperature (eV)\n",
        "T_g = 300.0  # gas temperature (K)\n",
        "n_e = ion_state(gas, T_e=T_e, T_g=T_g, n=n)\n",
        "\n",
        "# Retrieve ion species properties\n",
        "ion_species = ion_state(gas)\n",
        "n_i = plasma_factory(\n",
        "    n_e=n_e,\n",
        "    T_i=T_e,\n",
        "    ion_species=ion_species\n",
        ").ion_density\n",
        "\n",
        "# Calculate characteristic plasma parameters\n",
        "lambda_D = ef.Debye_length(T_e, n_e)\n",
        "omega_pi = ef.plasma_frequency(n_e, particle=mass)\n",
        "nu_i = ef.ion_collision_rate(n_e, ion_species, T_g)\n",
        "nu_e = ef.electron_collision_rate(n_e, gas, T_e)\n",
        "\n",
        "# Print results\n",
        "print(f'Debye length: {lambda_D:.4e} m')\n",
        "print(f'Plasma frequency: {omega_pi:.4e} Hz')\n",
        "print(f'Ion collision rate: {nu_i:.4e} Hz')\n",
        "print(f'Electron collision rate: {nu_e:.4e} Hz')\n",
        "\n",
        "# Define simulation grid\n",
        "x = np.linspace(0, length, 100)\n",
        "y = np.linspace(0, height, 10)\n",
        "z = np.linspace(0, width, 10)\n",
        "X, Y, Z = np.meshgrid(x, y, z, indexing='ij')\n",
        "\n",
        "# Calculate electric field\n",
        "E = voltage / length\n",
        "\n",
        "# Define Plasma instance\n",
        "plasma = plasma_factory(\n",
        "    n_e=n_e,\n",
        "    T_e=T_e,\n",
        "    ion_species=ion_species,\n",
        "    V=None,\n",
        "    E=E,\n",
        "    L=length,\n",
        "    W=width,\n",
        "    H=height,\n",
        "    uniform=False,\n",
        ")\n",
        "\n",
        "# Calculate current density\n",
        "J = plasma.current_density\n",
        "\n",
        "# Calculate air acceleration\n",
        "a = J / plasma.rho\n",
        "\n",
        "# Plot results\n",
        "fig, ax = plt.subplots()\n",
        "ax.pcolormesh(X, Y, a[:, :, 0])\n",
        "ax.set_xlabel('Position (m)')\n",
        "ax.set_ylabel('Height (m)')\n",
        "ax.set_title('Air acceleration')\n",
        "plt.show()\n",
        "\n"
      ]
    }
  ]
}